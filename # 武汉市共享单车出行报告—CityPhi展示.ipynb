{
 "cells": [
  {
   "cell_type": "markdown",
   "metadata": {},
   "source": [
    "# 武汉市共享单车出行报告—CityPhi展示\n",
    "by武汉市交通发展战略研究院 郑猛/zmfly@163.com / 13018035815"
   ]
  },
  {
   "cell_type": "code",
   "execution_count": 1,
   "metadata": {
    "collapsed": true
   },
   "outputs": [],
   "source": [
    "# coding: utf-8"
   ]
  },
  {
   "cell_type": "code",
   "execution_count": 2,
   "metadata": {
    "collapsed": true
   },
   "outputs": [],
   "source": [
    "#加载基础模块\n",
    "import pandas as pd\n",
    "import numpy as np\n",
    "import os, math, copy\n",
    "import time as _time\n",
    "import sys, random"
   ]
  },
  {
   "cell_type": "code",
   "execution_count": 3,
   "metadata": {
    "collapsed": true
   },
   "outputs": [],
   "source": [
    "# start\n",
    "import cityphi.application\n",
    "pd.options.display.max_rows = 15\n",
    "%matplotlib inline\n",
    "import matplotlib.pyplot as plt\n",
    "\n",
    "\n",
    "%gui cityphi\n",
    "app = cityphi.application.Application()\n",
    "\n",
    "import colorbrewer\n",
    "#RGB color\n",
    "Black = (0,0,0)\n",
    "White = (255,255,255)\n",
    "Red = (255,0,0)\n",
    "Lime = (0,255,0)\n",
    "Blue = (0,0,255)\n",
    "Yellow = (255,255,0)\n",
    "Cyan = (0,255,255)\n",
    "Magenta = (255,0,255)\n",
    "Silver = (192,192,192)\n",
    "Gray = (128,128,128)\n",
    "Maroon = (128,0,0)\n",
    "Olive = (128,128,0)\n",
    "Green = (0,128,0)\n",
    "Purple= (128,0,128)\n",
    "Teal = (0,128,128)\n",
    "Navy = (0,0,128)\n",
    "Grad2 = (150, 150, 150)\n",
    "LightYellow = (245, 245, 80)\n",
    "\n",
    "from cityphi.feature import *\n",
    "from cityphi.layer import *\n",
    "import cityphi.attribute\n",
    "from cityphi.attribute import DiscreteColorAttribute, FeatureAttribute\n",
    "from cityphi.attribute import Attribute, MultiplierAttribute\n",
    "\n",
    "import cityphi.feature as _feat\n",
    "import cityphi.layer as _layer\n",
    "import cityphi.parameter as _param\n",
    "import cityphi.attribute as _att\n",
    "import cityphi.query as _query\n",
    "import cityphi.data as _data\n",
    "\n",
    "from IPython.display import display, HTML\n",
    "from ipywidgets import widgets\n",
    "from ipywidgets import interact\n",
    "\n",
    "import types\n",
    "import fiona.crs as _crs\n",
    "import pyproj as _proj\n",
    "\n",
    "src_p = _proj.Proj(_crs.from_epsg(4326))  # lat/lon (WGS84)\n",
    "dst_p = _proj.Proj(_crs.from_epsg(3857))\n",
    "\n",
    "def get_time(t):\n",
    "    hh = int(t/3600)\n",
    "    mm = int((t-hh*3600)/60)\n",
    "    ss = int(t-hh*3600-mm*60)\n",
    "    return \"%02d:%02d:%02d\" % (hh, mm, ss)\n",
    "\n",
    "import cityphi.widget as _widget\n",
    "map_layer = app.layers[0]\n",
    "map_layer.name = u\"地图\""
   ]
  },
  {
   "cell_type": "code",
   "execution_count": 4,
   "metadata": {
    "collapsed": true
   },
   "outputs": [],
   "source": [
    "# HUD\n",
    "class CountWidget(_widget.Widget):\n",
    "    _js_type = \"count_widget\"\n",
    "    \n",
    "    def __init__(self, label, value, max_value, fill_color='#FF0000'):\n",
    "        super(CountWidget, self).__init__()\n",
    "        self.label = label\n",
    "        self.value = value\n",
    "        self.max_value = max_value\n",
    "        self.fill_color = fill_color\n",
    "    label = _param.StringParameter()\n",
    "    value = _param.IntegerParameter(0)\n",
    "    max_value = _param.IntegerParameter(0)\n",
    "    fill_color = _param.ColorParameter()\n",
    "\n",
    "map_layer = app.layers[0]\n",
    "map_layer.name = u\"地图\""
   ]
  },
  {
   "cell_type": "code",
   "execution_count": 5,
   "metadata": {
    "collapsed": true
   },
   "outputs": [],
   "source": [
    "#加载基础模块\n",
    "import pandas as pd\n",
    "import numpy as np\n",
    "import os, math, copy\n",
    "import time as _time\n",
    "import sys, random\n",
    "\n",
    "#如果没有第一行，则图形文件会从新窗口弹出，程序运行亦会暂停\n",
    "%matplotlib inline\n",
    "import matplotlib.pyplot as plt\n",
    "plt.rcParams['font.sans-serif']=['SimHei'] #用来正常显示中文标签\n",
    "plt.rcParams['axes.unicode_minus']=False #用来正常显示负号\n",
    "\n",
    "pd.options.display.max_rows = 16 #最多显示16行"
   ]
  },
  {
   "cell_type": "code",
   "execution_count": 6,
   "metadata": {
    "collapsed": true
   },
   "outputs": [],
   "source": [
    "#cityphi相关\n",
    "import cityphi.application\n",
    "from cityphi.feature import *\n",
    "from cityphi.layer import *\n",
    "import cityphi.attribute\n",
    "from cityphi.attribute import DiscreteColorAttribute, FeatureAttribute\n",
    "from cityphi.attribute import Attribute\n",
    "\n",
    "import cityphi.feature as _feat\n",
    "import cityphi.layer as _layer\n",
    "import cityphi.data as _data\n",
    "import cityphi.parameter as _param\n",
    "\n",
    "# widgets 播放器，插件\n",
    "from IPython.display import display, HTML\n",
    "from ipywidgets import widgets\n",
    "from ipywidgets import interact\n",
    "import types\n",
    "\n",
    "# Fiona地理数据引擎Python库\n",
    "import fiona.crs as _crs\n",
    "import pyproj as _proj\n",
    "src_p = _proj.Proj(_crs.from_epsg(4326))  # lat/lon (WGS84)  longitude经度 latitude维度 \n",
    "dst_p = _proj.Proj(_crs.from_epsg(3857))\n",
    "#from basics import src_p_utm50N, src_p, dst_p    #如果此条打开，则上面两条关闭\n",
    "#get_ipython().magic(u'matplotlib inline')"
   ]
  },
  {
   "cell_type": "code",
   "execution_count": 7,
   "metadata": {
    "collapsed": true
   },
   "outputs": [],
   "source": [
    "# start CityPhi\n",
    "#运行app 则cityphi窗口弹出\n",
    "%gui cityphi\n",
    "app = cityphi.application.Application()\n",
    "# add a custom base map\n",
    "web_basemap = app.layers[0]\n",
    "import cityphi.core.layer.rastertilelayer as _rastertilelayer\n",
    "import cityphi.core._core as _core\n",
    "url_template = \"http://webrd02.is.autonavi.com/appmaptile?lang=zh_cn&size=1&scale=1&style=7&x=%2&y=%3&z=%1\"  #高德地图\n",
    "custom_map_feat = _core.RasterTileWebFeature(url_template, 18)\n",
    "web_basemap.feature = custom_map_feat\n",
    "web_basemap.name = u\"高德地图\"\n",
    "web_basemap.opacity = 30"
   ]
  },
  {
   "cell_type": "code",
   "execution_count": 8,
   "metadata": {
    "collapsed": true
   },
   "outputs": [],
   "source": [
    "# 数据目录 （data directory）\n",
    "data_path = \"./Data\"\n",
    "work_path = \"./Work\"\n",
    "gis_path = \"./GISData\"\n",
    "#os.getcwd() #获取当前工作目录"
   ]
  },
  {
   "cell_type": "markdown",
   "metadata": {},
   "source": [
    "## 加载路网"
   ]
  },
  {
   "cell_type": "code",
   "execution_count": 9,
   "metadata": {
    "collapsed": true
   },
   "outputs": [],
   "source": [
    "#-加载武汉现状路网\n",
    "whroad_shapefile = os.path.join(gis_path, \"highway_line.shp\")\n",
    "whroad_feature, whroad_attributes = _data.import_shapefile(whroad_shapefile)\n",
    "#\n",
    "whroad_layer = _layer.PolylineLayer(whroad_feature,max_vertices=200000)\n",
    "app.add_layer(whroad_layer)\n",
    "whroad_layer.name = u\"武汉现状路网\"\n",
    "whroad_layer.width = 5.0\n",
    "whroad_layer.color = (255,255,255)\n",
    "#whroad_layer.priority = 2"
   ]
  },
  {
   "cell_type": "markdown",
   "metadata": {},
   "source": [
    "# 1 订单数据"
   ]
  },
  {
   "cell_type": "markdown",
   "metadata": {},
   "source": [
    "## 1.1 租还车点位集合"
   ]
  },
  {
   "cell_type": "code",
   "execution_count": 10,
   "metadata": {},
   "outputs": [
    {
     "name": "stdout",
     "output_type": "stream",
     "text": [
      "(27384, 9)\n"
     ]
    },
    {
     "data": {
      "text/html": [
       "<div>\n",
       "<table border=\"1\" class=\"dataframe\">\n",
       "  <thead>\n",
       "    <tr style=\"text-align: right;\">\n",
       "      <th></th>\n",
       "      <th>orderid</th>\n",
       "      <th>userid</th>\n",
       "      <th>bikeid</th>\n",
       "      <th>starttime</th>\n",
       "      <th>startpositionx</th>\n",
       "      <th>startpositiony</th>\n",
       "      <th>endtime</th>\n",
       "      <th>endpositionx</th>\n",
       "      <th>endpositiony</th>\n",
       "    </tr>\n",
       "  </thead>\n",
       "  <tbody>\n",
       "    <tr>\n",
       "      <th>0</th>\n",
       "      <td>2112548</td>\n",
       "      <td>6754</td>\n",
       "      <td>144920</td>\n",
       "      <td>2017-06-23 20:00:24.0</td>\n",
       "      <td>114.206620</td>\n",
       "      <td>30.607073</td>\n",
       "      <td>2017-06-23 20:09:48.0</td>\n",
       "      <td>114.20209987</td>\n",
       "      <td>30.61168888</td>\n",
       "    </tr>\n",
       "    <tr>\n",
       "      <th>1</th>\n",
       "      <td>2355538</td>\n",
       "      <td>101224</td>\n",
       "      <td>153238</td>\n",
       "      <td>2017-06-23 20:00:28.0</td>\n",
       "      <td>114.039315</td>\n",
       "      <td>30.588055</td>\n",
       "      <td>2017-06-23 20:16:33.0</td>\n",
       "      <td>114.03877515</td>\n",
       "      <td>30.56942600</td>\n",
       "    </tr>\n",
       "    <tr>\n",
       "      <th>2</th>\n",
       "      <td>2761314</td>\n",
       "      <td>139889</td>\n",
       "      <td>166490</td>\n",
       "      <td>2017-06-23 20:00:27.0</td>\n",
       "      <td>114.236080</td>\n",
       "      <td>30.507850</td>\n",
       "      <td>2017-06-23 20:10:43.0</td>\n",
       "      <td>114.22171173</td>\n",
       "      <td>30.51030346</td>\n",
       "    </tr>\n",
       "    <tr>\n",
       "      <th>3</th>\n",
       "      <td>2980580</td>\n",
       "      <td>799957</td>\n",
       "      <td>173744</td>\n",
       "      <td>2017-06-23 20:00:25.0</td>\n",
       "      <td>114.303945</td>\n",
       "      <td>30.548364</td>\n",
       "      <td>2017-06-23 20:05:25.0</td>\n",
       "      <td>114.30200972</td>\n",
       "      <td>30.54576367</td>\n",
       "    </tr>\n",
       "    <tr>\n",
       "      <th>4</th>\n",
       "      <td>3009149</td>\n",
       "      <td>719156</td>\n",
       "      <td>174686</td>\n",
       "      <td>2017-06-23 20:00:24.0</td>\n",
       "      <td>114.329828</td>\n",
       "      <td>30.504223</td>\n",
       "      <td>2017-06-23 20:05:27.0</td>\n",
       "      <td>114.33079898</td>\n",
       "      <td>30.50466843</td>\n",
       "    </tr>\n",
       "  </tbody>\n",
       "</table>\n",
       "</div>"
      ],
      "text/plain": [
       "   orderid  userid  bikeid              starttime  startpositionx  \\\n",
       "0  2112548    6754  144920  2017-06-23 20:00:24.0      114.206620   \n",
       "1  2355538  101224  153238  2017-06-23 20:00:28.0      114.039315   \n",
       "2  2761314  139889  166490  2017-06-23 20:00:27.0      114.236080   \n",
       "3  2980580  799957  173744  2017-06-23 20:00:25.0      114.303945   \n",
       "4  3009149  719156  174686  2017-06-23 20:00:24.0      114.329828   \n",
       "\n",
       "   startpositiony                endtime  endpositionx endpositiony  \n",
       "0       30.607073  2017-06-23 20:09:48.0  114.20209987  30.61168888  \n",
       "1       30.588055  2017-06-23 20:16:33.0  114.03877515  30.56942600  \n",
       "2       30.507850  2017-06-23 20:10:43.0  114.22171173  30.51030346  \n",
       "3       30.548364  2017-06-23 20:05:25.0  114.30200972  30.54576367  \n",
       "4       30.504223  2017-06-23 20:05:27.0  114.33079898  30.50466843  "
      ]
     },
     "execution_count": 10,
     "metadata": {},
     "output_type": "execute_result"
    }
   ],
   "source": [
    "#加载原始订单数据\n",
    "mobikefile= os.path.join(data_path,\"order_sample.csv\")\n",
    "mobike_df_raw = pd.read_csv(mobikefile)\n",
    "print mobike_df_raw.shape\n",
    "mobike_df_raw[:5]"
   ]
  },
  {
   "cell_type": "code",
   "execution_count": 11,
   "metadata": {},
   "outputs": [
    {
     "name": "stdout",
     "output_type": "stream",
     "text": [
      "(54350, 3)\n"
     ]
    },
    {
     "data": {
      "text/html": [
       "<div>\n",
       "<table border=\"1\" class=\"dataframe\">\n",
       "  <thead>\n",
       "    <tr style=\"text-align: right;\">\n",
       "      <th></th>\n",
       "      <th>Lng</th>\n",
       "      <th>Lat</th>\n",
       "      <th>trackid</th>\n",
       "    </tr>\n",
       "  </thead>\n",
       "  <tbody>\n",
       "    <tr>\n",
       "      <th>0</th>\n",
       "      <td>104.1176</td>\n",
       "      <td>30.79568</td>\n",
       "      <td>1</td>\n",
       "    </tr>\n",
       "    <tr>\n",
       "      <th>1</th>\n",
       "      <td>113.233</td>\n",
       "      <td>23.12879</td>\n",
       "      <td>2</td>\n",
       "    </tr>\n",
       "    <tr>\n",
       "      <th>2</th>\n",
       "      <td>113.4343</td>\n",
       "      <td>30.35669</td>\n",
       "      <td>3</td>\n",
       "    </tr>\n",
       "    <tr>\n",
       "      <th>3</th>\n",
       "      <td>113.4507</td>\n",
       "      <td>30.37376</td>\n",
       "      <td>4</td>\n",
       "    </tr>\n",
       "    <tr>\n",
       "      <th>4</th>\n",
       "      <td>113.4553</td>\n",
       "      <td>30.3669</td>\n",
       "      <td>5</td>\n",
       "    </tr>\n",
       "  </tbody>\n",
       "</table>\n",
       "</div>"
      ],
      "text/plain": [
       "        Lng       Lat  trackid\n",
       "0  104.1176  30.79568        1\n",
       "1   113.233  23.12879        2\n",
       "2  113.4343  30.35669        3\n",
       "3  113.4507  30.37376        4\n",
       "4  113.4553   30.3669        5"
      ]
     },
     "execution_count": 11,
     "metadata": {},
     "output_type": "execute_result"
    }
   ],
   "source": [
    "#租还车点位集合\n",
    "mobike_df_raw=mobike_df_raw[mobike_df_raw['endpositionx']!='null']\n",
    "grid_O = np.column_stack(\n",
    "    (mobike_df_raw.startpositionx.values,mobike_df_raw.startpositiony.values))\n",
    "grid_D = np.column_stack(\n",
    "    (mobike_df_raw.endpositionx.values,mobike_df_raw.endpositiony.values))\n",
    "grid_OD = np.row_stack((grid_O, grid_D))\n",
    "grid_week = pd.DataFrame(grid_OD, columns=['Lng','Lat'])\n",
    "grid_week = grid_week.drop_duplicates()    #基于全部列去重\n",
    "#grid_week = grid_week.sort_values(by=[ 'Lng','Lat']).reset_index(drop=True)\n",
    "grid_week = grid_week.sort(['Lng','Lat']).reset_index(drop=True)\n",
    "grid_week['trackid']=grid_week.index+1\n",
    "print grid_week.shape\n",
    "grid_week.head()"
   ]
  },
  {
   "cell_type": "code",
   "execution_count": 12,
   "metadata": {},
   "outputs": [],
   "source": [
    "#坐标可视化-高德坐标\n",
    "week_x, week_y =  _proj.transform(src_p, dst_p,grid_week.Lng.values, grid_week.Lat.values)\n",
    "week_points = np.column_stack(\n",
    "    (week_x, week_y, np.zeros(len(grid_week))))\n",
    "#grid_ids = grid_mobike.index.values\n",
    "week_ids = grid_week.trackid.values\n",
    "gridweek_feature = PointFeature(week_ids, week_points)\n",
    "gridweek_layer = PointLayer(gridweek_feature)\n",
    "gridweek_layer.min_pixel_size = 2\n",
    "gridweek_layer.radius = 2\n",
    "gridweek_layer.color = (0, 227, 252)\n",
    "app.add_layer(gridweek_layer)\n",
    "app.set_view(app.full_view)\n",
    "#vehicle_layer.color.value = Blue\n",
    "gridweek_layer.name = u\"单车租还车位置集\"\n",
    "#app.background_color = (25, 25, 25)  # make the background black"
   ]
  },
  {
   "cell_type": "markdown",
   "metadata": {},
   "source": [
    "## 1.2 特征日分析"
   ]
  },
  {
   "cell_type": "code",
   "execution_count": 13,
   "metadata": {},
   "outputs": [
    {
     "name": "stdout",
     "output_type": "stream",
     "text": [
      "(16270, 10)\n"
     ]
    },
    {
     "data": {
      "text/html": [
       "<div>\n",
       "<table border=\"1\" class=\"dataframe\">\n",
       "  <thead>\n",
       "    <tr style=\"text-align: right;\">\n",
       "      <th></th>\n",
       "      <th>Orderid</th>\n",
       "      <th>Userid</th>\n",
       "      <th>Bikeid</th>\n",
       "      <th>TripID</th>\n",
       "      <th>Time</th>\n",
       "      <th>Lat</th>\n",
       "      <th>Lng</th>\n",
       "      <th>Timeuse_OD</th>\n",
       "      <th>Len_OD</th>\n",
       "      <th>IO</th>\n",
       "    </tr>\n",
       "  </thead>\n",
       "  <tbody>\n",
       "    <tr>\n",
       "      <th>0</th>\n",
       "      <td>73</td>\n",
       "      <td>771130</td>\n",
       "      <td>41486</td>\n",
       "      <td>0</td>\n",
       "      <td>71461</td>\n",
       "      <td>39.903209</td>\n",
       "      <td>116.249230</td>\n",
       "      <td>368</td>\n",
       "      <td>600.626277</td>\n",
       "      <td>0</td>\n",
       "    </tr>\n",
       "    <tr>\n",
       "      <th>1</th>\n",
       "      <td>73</td>\n",
       "      <td>771130</td>\n",
       "      <td>41486</td>\n",
       "      <td>0</td>\n",
       "      <td>71829</td>\n",
       "      <td>39.906070</td>\n",
       "      <td>116.243267</td>\n",
       "      <td>368</td>\n",
       "      <td>600.626277</td>\n",
       "      <td>1</td>\n",
       "    </tr>\n",
       "    <tr>\n",
       "      <th>2</th>\n",
       "      <td>515</td>\n",
       "      <td>588639</td>\n",
       "      <td>41689</td>\n",
       "      <td>1</td>\n",
       "      <td>38189</td>\n",
       "      <td>30.573193</td>\n",
       "      <td>114.279657</td>\n",
       "      <td>197</td>\n",
       "      <td>373.321695</td>\n",
       "      <td>0</td>\n",
       "    </tr>\n",
       "    <tr>\n",
       "      <th>3</th>\n",
       "      <td>515</td>\n",
       "      <td>588639</td>\n",
       "      <td>41689</td>\n",
       "      <td>1</td>\n",
       "      <td>38386</td>\n",
       "      <td>30.570871</td>\n",
       "      <td>114.276847</td>\n",
       "      <td>197</td>\n",
       "      <td>373.321695</td>\n",
       "      <td>1</td>\n",
       "    </tr>\n",
       "    <tr>\n",
       "      <th>4</th>\n",
       "      <td>1063</td>\n",
       "      <td>1161549</td>\n",
       "      <td>41718</td>\n",
       "      <td>2</td>\n",
       "      <td>38192</td>\n",
       "      <td>30.362188</td>\n",
       "      <td>114.322422</td>\n",
       "      <td>980</td>\n",
       "      <td>1100.534766</td>\n",
       "      <td>0</td>\n",
       "    </tr>\n",
       "  </tbody>\n",
       "</table>\n",
       "</div>"
      ],
      "text/plain": [
       "   Orderid   Userid  Bikeid  TripID   Time        Lat         Lng  Timeuse_OD  \\\n",
       "0       73   771130   41486       0  71461  39.903209  116.249230         368   \n",
       "1       73   771130   41486       0  71829  39.906070  116.243267         368   \n",
       "2      515   588639   41689       1  38189  30.573193  114.279657         197   \n",
       "3      515   588639   41689       1  38386  30.570871  114.276847         197   \n",
       "4     1063  1161549   41718       2  38192  30.362188  114.322422         980   \n",
       "\n",
       "        Len_OD  IO  \n",
       "0   600.626277   0  \n",
       "1   600.626277   1  \n",
       "2   373.321695   0  \n",
       "3   373.321695   1  \n",
       "4  1100.534766   0  "
      ]
     },
     "execution_count": 13,
     "metadata": {},
     "output_type": "execute_result"
    }
   ],
   "source": [
    "#bike_od_df_arr_raw = pd.read_csv(os.path.join(work_path,'33_bike_od_20170620.csv'))  #完整订单OD数据\n",
    "bike_od_df_arr = pd.read_csv(os.path.join(work_path,'mobike_od_20170620_2arr.csv'))  #完整订单OD数据\n",
    "print bike_od_df_arr.shape\n",
    "bike_od_df_arr[:5]"
   ]
  },
  {
   "cell_type": "code",
   "execution_count": 14,
   "metadata": {
    "collapsed": true
   },
   "outputs": [],
   "source": [
    "#坐标可视化-高德坐标\n",
    "day_x, day_y =  _proj.transform(src_p, dst_p,\n",
    "                                  bike_od_df_arr['Lng'].values, bike_od_df_arr['Lat'].values)\n",
    "day_points = np.column_stack(\n",
    "    (day_x, day_y, np.zeros(len(bike_od_df_arr))))\n",
    "day_ids = bike_od_df_arr.index.values\n",
    "#day_ids = bike_od_df_arr.SegID.values\n",
    "gridday_feature = PointFeature(day_ids, day_points)\n",
    "gridday_layer = PointLayer(gridday_feature)\n",
    "gridday_layer.min_pixel_size = 2\n",
    "gridday_layer.radius = 2\n",
    "gridday_layer.color = (0, 227, 252)  #(255,71,19)  #摩拜橙色   (111, 173, 246)天蓝色\n",
    "app.add_layer(gridday_layer)\n",
    "app.set_view(app.full_view)\n",
    "#vehicle_layer.color.value = Blue\n",
    "gridday_layer.name = u\"摩拜单车租还车位置集（6月20）\"\n",
    "app.background_color = (24, 30, 46)  #   深蓝色\n",
    "#app.background_color = (25, 25, 25)  # make the background black"
   ]
  },
  {
   "cell_type": "code",
   "execution_count": 15,
   "metadata": {
    "collapsed": true
   },
   "outputs": [],
   "source": [
    "bike_od_df_arr['Endtime']=bike_od_df_arr.Time.values + bike_od_df_arr.Timeuse_OD.values\n",
    "bike_od_df_arr['Speed']=bike_od_df_arr.Len_OD.values/bike_od_df_arr.Timeuse_OD.values*3.6  "
   ]
  },
  {
   "cell_type": "code",
   "execution_count": 16,
   "metadata": {},
   "outputs": [
    {
     "data": {
      "text/html": [
       "Attribute(Orderid)"
      ],
      "text/plain": [
       "Attribute(Orderid)"
      ]
     },
     "execution_count": 16,
     "metadata": {},
     "output_type": "execute_result"
    }
   ],
   "source": [
    "gridday_feature.add_attribute(\"IO\", \"int32\",\n",
    "                        bike_od_df_arr.TripID.values, bike_od_df_arr.IO.values)\n",
    "gridday_feature.add_attribute(\"Time\", \"int32\", \n",
    "                              bike_od_df_arr.TripID.values, bike_od_df_arr.Time.values)\n",
    "gridday_feature.add_attribute(\"end_time\", \"int32\",\n",
    "                              bike_od_df_arr.TripID.values, bike_od_df_arr.Endtime.values)\n",
    "gridday_feature.add_attribute(\"Bikeid\", \"int32\",\n",
    "                        bike_od_df_arr.TripID.values, bike_od_df_arr.Bikeid.values)\n",
    "gridday_feature.add_attribute(\"Userid\", \"int32\",\n",
    "                        bike_od_df_arr.TripID.values, bike_od_df_arr.Userid.values)\n",
    "gridday_feature.add_attribute(\"Orderid\", \"int32\",\n",
    "                        bike_od_df_arr.TripID.values, bike_od_df_arr.Orderid.values)"
   ]
  },
  {
   "cell_type": "markdown",
   "metadata": {},
   "source": [
    "## 1.3 特征日点位聚集"
   ]
  },
  {
   "cell_type": "code",
   "execution_count": 17,
   "metadata": {
    "collapsed": true
   },
   "outputs": [],
   "source": [
    "#设置网格聚集\n",
    "#point_ids = bike_od_df_arr.trackid.values  \n",
    "point_ids = bike_od_df_arr.index.values\n",
    "grid_feature = PointFeature.from_points(point_ids, day_ids, gridday_feature)\n",
    "#grid_feature = PointFeature(point_ids, track_points)\n",
    "point_grid_layer = PointLayer(grid_feature, max_vertices=200000)\n",
    "app.add_layer(point_grid_layer)\n",
    "point_grid_layer.name = u'点网格集聚'\n",
    "point_grid_layer.stacked = True\n",
    "grid_feature.add_attribute(\"start_time\", \"int32\", \n",
    "                           bike_od_df_arr.TripID.values, bike_od_df_arr.Time.values)\n",
    "grid_feature.add_attribute(\"end_time\", \"int32\", \n",
    "                           bike_od_df_arr.TripID.values, bike_od_df_arr.Endtime.values)\n",
    "point_grid_layer.start_time = FeatureAttribute(\"start_time\")\n",
    "#point_grid_layer.end_time = FeatureAttribute(\"end_time\")\n",
    "point_grid_layer.end_time = FeatureAttribute(\"start_time\")"
   ]
  },
  {
   "cell_type": "code",
   "execution_count": 18,
   "metadata": {
    "collapsed": true
   },
   "outputs": [],
   "source": [
    "# time slider. Run this only once\n",
    "import cityphi.widget as _widget\n",
    "\n",
    "def get_time(t):\n",
    "    hh = int(t/3600)\n",
    "    mm = int((t-hh*3600)/60)\n",
    "    ss = int(t-hh*3600-mm*60)\n",
    "    return \"%02d:%02d:%02d\" % (hh, mm, ss)\n",
    "\n",
    "html_widget = _widget.HTMLWidget(\"\")\n",
    "app.add_widget(html_widget)\n",
    "\n",
    "def format_timestamp(t):\n",
    "    return \"\"\"\n",
    "    <span style='font-size: 20px; line-height: 20px'>\n",
    "    %s\n",
    "    </span>\"\"\" % (get_time(t))"
   ]
  },
  {
   "cell_type": "code",
   "execution_count": 19,
   "metadata": {
    "collapsed": true
   },
   "outputs": [],
   "source": [
    "def format_timestamp(t):\n",
    "    return \"\"\"\n",
    "    <span style='font-size: 30px; line-height: 30px'>\n",
    "    %s\n",
    "    </span>\"\"\" % (get_time(t))"
   ]
  },
  {
   "cell_type": "code",
   "execution_count": 20,
   "metadata": {
    "collapsed": true
   },
   "outputs": [],
   "source": [
    "#刷新时间\n",
    "def change_time(t):\n",
    "    html_widget.html = format_timestamp(t)\n",
    "    point_grid_layer.time = t\n",
    "    point_grid_layer.time_window = t - 3600, t  # 1 小时集聚 \n",
    "    \n",
    "time_slider = _widget.TimeSlider(0 * 3600, 24 * 3600, get_time, change_time)\n",
    "app.add_widget(time_slider) "
   ]
  },
  {
   "cell_type": "code",
   "execution_count": 21,
   "metadata": {
    "collapsed": true
   },
   "outputs": [],
   "source": [
    "# set size, height, color\n",
    "start_value = 1\n",
    "end_value = 5\n",
    "start_color =(255,255,0) #(255,255,0)\n",
    "end_color = (255,0,0)  #摩拜橙色  (255,71,19)\n",
    "level =19            # set level: 1-21， 网格大小一共有 21 级  18\n",
    "#\n",
    "point_grid_layer.min_pixel_size = 5\n",
    "point_grid_layer.height =1\n",
    "#\n",
    "point_grid_layer.color = cityphi.attribute.LinearInterpolatedColorAttribute(\n",
    "    start_value, end_value, start_color, end_color, cityphi.attribute.StackedAttribute())\n",
    "point_grid_layer.feature = \\\n",
    "    grid_feature.aggregate_grid(level) #grid size max.= 21"
   ]
  },
  {
   "cell_type": "markdown",
   "metadata": {},
   "source": [
    "## 1.4 特征日运行期望线"
   ]
  },
  {
   "cell_type": "code",
   "execution_count": 22,
   "metadata": {},
   "outputs": [],
   "source": [
    "#出行期望线\n",
    "day_x, day_y =  _proj.transform(src_p, dst_p,bike_od_df_arr['Lng'].values, bike_od_df_arr['Lat'].values)\n",
    "day_points = np.column_stack((day_x, day_y, np.zeros(len(bike_od_df_arr))))\n",
    "bike_trip_ids = bike_od_df_arr.TripID.values\n",
    "#bike_dl_grid_ids = bike_od_df_arr.trackid.values\n",
    "bike_dl_times = bike_od_df_arr.Time.values\n",
    "bike_dl_feature = TrajectoryFeature(bike_trip_ids, day_points, bike_dl_times)\n",
    "#bike_dl_grid_ids = bike_od_df_arr.index.values\n",
    "#bike_dl_feature = TrajectoryFeature.from_points(bike_trip_ids, bike_dl_grid_ids, \n",
    "#                                                 bike_dl_times, gridday_feature)\n",
    "bike_dl_layer = _layer.ParabolicTrajectoryLayer(bike_dl_feature, max_vertices=200000)\n",
    "app.add_layer(bike_dl_layer)\n",
    "bike_dl_layer.name = u'摩拜单车出行期望线'\n",
    "bike_dl_layer.height = 500\n",
    "bike_dl_layer.color.value = (0, 247, 255) \n",
    "bike_dl_layer.min_pixel_size = 2\n",
    "bike_dl_layer.width = 20\n",
    "#bike_dl_layer.visible = True\n",
    "#bike_dl_layer.hide()\n",
    "#bike_dl_feature.add_attribute(\"card_no\", \"string\", "
   ]
  },
  {
   "cell_type": "code",
   "execution_count": 23,
   "metadata": {
    "collapsed": true
   },
   "outputs": [],
   "source": [
    "# time slider. Run this only once\n",
    "import cityphi.widget as _widget\n",
    "\n",
    "def get_time(t):\n",
    "    hh = int(t/3600)\n",
    "    mm = int((t-hh*3600)/60)\n",
    "    ss = int(t-hh*3600-mm*60)\n",
    "    return \"%02d:%02d:%02d\" % (hh, mm, ss)\n",
    "\n",
    "html_widget = _widget.HTMLWidget(\"\")\n",
    "app.add_widget(html_widget)\n",
    "\n",
    "def format_timestamp(t):\n",
    "    return \"\"\"\n",
    "    <span style='font-size: 20px; line-height: 20px'>\n",
    "    %s\n",
    "    </span>\"\"\" % (get_time(t))"
   ]
  },
  {
   "cell_type": "code",
   "execution_count": 24,
   "metadata": {
    "collapsed": true
   },
   "outputs": [],
   "source": [
    "# update time slider\n",
    "def change_time(t):\n",
    "    # ...\n",
    "    html_widget.html = format_timestamp(t)\n",
    "    bike_dl_layer.time = t                          \n",
    "    bike_dl_layer.time_window = t - 10*60, t  #length of tail in second\n",
    "    #point_grid_layer.time_window = t - 3600, t  # 1 小时集聚 \n",
    "    #point_grid_layer.time_window = 0, t  # 1 小时集聚     \n",
    "time_slider = _widget.TimeSlider(0 * 3600, 24 * 3600, get_time, change_time)\n",
    "app.add_widget(time_slider) \n",
    "#time_slider.time_callback = change_time"
   ]
  },
  {
   "cell_type": "markdown",
   "metadata": {},
   "source": [
    "## 1.5 运行水滴图"
   ]
  },
  {
   "cell_type": "code",
   "execution_count": 25,
   "metadata": {
    "collapsed": true
   },
   "outputs": [],
   "source": [
    "#出行水滴图\n",
    "bike_path_ayer = _layer.TrajectoryLayer(bike_dl_feature, max_vertices=200000)\n",
    "app.add_layer(bike_path_ayer)\n",
    "bike_path_ayer.name = u'摩拜单车出行路径'\n",
    "bike_path_ayer.color.value = (168, 103, 48) #橘色 类似灯光的效果\n",
    "bike_path_ayer.min_pixel_size = 4\n",
    "bike_path_ayer.width = 15"
   ]
  },
  {
   "cell_type": "code",
   "execution_count": 26,
   "metadata": {
    "collapsed": true
   },
   "outputs": [],
   "source": [
    "#设置颜色\n",
    "bike_path_ayer.color.is_time_varying=True\n",
    "speed_att =  cityphi.attribute.MultiplierAttribute(3.6,  cityphi.attribute.FeatureAttribute(\"speed\"))\n",
    "speed_att.is_time_varying = True\n",
    "#bike_dl_layer.color.attribute.display_name=u'speed'\n",
    "color_breaks =[0.0,3.0, 6.0, 10,999.0]\n",
    "#colors=[(88, 249, 0), (252, 166, 0), (255, 0, 0), (151, 151, 151)]   #（参照手机信令样式）\n",
    "colors=[(88, 249, 0), (252, 166, 0), (249, 33, 204), (249, 0, 0)]\n",
    "color_labels=[u'停止',u'慢速', u'中速', u'快速', u'高速']\n",
    "bike_path_ayer.color = cityphi.attribute.ContinuousColorAttribute(colors, \n",
    "        color_breaks, speed_att, color_labels)"
   ]
  },
  {
   "cell_type": "code",
   "execution_count": 27,
   "metadata": {
    "collapsed": true
   },
   "outputs": [],
   "source": [
    "#刷新时间\n",
    "def change_time(t):\n",
    "    html_widget.html = format_timestamp(t)\n",
    "    bike_dl_layer.time = t                          \n",
    "    bike_dl_layer.time_window = t - 10*60, t  #length of tail in second\n",
    "    #point_grid_layer.time_window = t - 3600, t  # 1 小时集聚\n",
    "    bike_path_ayer.time_window = t - 5.*60, t  #length of tail in second\n",
    "time_slider.time_callback = change_time"
   ]
  },
  {
   "cell_type": "markdown",
   "metadata": {},
   "source": [
    "# 2 轨迹数据"
   ]
  },
  {
   "cell_type": "markdown",
   "metadata": {
    "code_folding": []
   },
   "source": [
    "## 2.1 租还车点位集合"
   ]
  },
  {
   "cell_type": "code",
   "execution_count": 28,
   "metadata": {},
   "outputs": [
    {
     "name": "stdout",
     "output_type": "stream",
     "text": [
      "(1040, 6)\n"
     ]
    },
    {
     "data": {
      "text/html": [
       "<div>\n",
       "<table border=\"1\" class=\"dataframe\">\n",
       "  <thead>\n",
       "    <tr style=\"text-align: right;\">\n",
       "      <th></th>\n",
       "      <th>Orderid</th>\n",
       "      <th>Userid</th>\n",
       "      <th>Bikeid</th>\n",
       "      <th>Time</th>\n",
       "      <th>Lng</th>\n",
       "      <th>Lat</th>\n",
       "    </tr>\n",
       "  </thead>\n",
       "  <tbody>\n",
       "    <tr>\n",
       "      <th>0</th>\n",
       "      <td>1274</td>\n",
       "      <td>82151654</td>\n",
       "      <td>1483949</td>\n",
       "      <td>30216</td>\n",
       "      <td>114.282150</td>\n",
       "      <td>30.587905</td>\n",
       "    </tr>\n",
       "    <tr>\n",
       "      <th>1</th>\n",
       "      <td>1274</td>\n",
       "      <td>82151654</td>\n",
       "      <td>1483949</td>\n",
       "      <td>30845</td>\n",
       "      <td>114.289068</td>\n",
       "      <td>30.586030</td>\n",
       "    </tr>\n",
       "    <tr>\n",
       "      <th>2</th>\n",
       "      <td>1274</td>\n",
       "      <td>82151654</td>\n",
       "      <td>1483949</td>\n",
       "      <td>30870</td>\n",
       "      <td>114.289147</td>\n",
       "      <td>30.584945</td>\n",
       "    </tr>\n",
       "    <tr>\n",
       "      <th>3</th>\n",
       "      <td>1702</td>\n",
       "      <td>96916278</td>\n",
       "      <td>1511545</td>\n",
       "      <td>27720</td>\n",
       "      <td>114.252881</td>\n",
       "      <td>30.579861</td>\n",
       "    </tr>\n",
       "    <tr>\n",
       "      <th>4</th>\n",
       "      <td>1702</td>\n",
       "      <td>96916278</td>\n",
       "      <td>1511545</td>\n",
       "      <td>28264</td>\n",
       "      <td>114.261973</td>\n",
       "      <td>30.578904</td>\n",
       "    </tr>\n",
       "  </tbody>\n",
       "</table>\n",
       "</div>"
      ],
      "text/plain": [
       "   Orderid    Userid   Bikeid   Time         Lng        Lat\n",
       "0     1274  82151654  1483949  30216  114.282150  30.587905\n",
       "1     1274  82151654  1483949  30845  114.289068  30.586030\n",
       "2     1274  82151654  1483949  30870  114.289147  30.584945\n",
       "3     1702  96916278  1511545  27720  114.252881  30.579861\n",
       "4     1702  96916278  1511545  28264  114.261973  30.578904"
      ]
     },
     "execution_count": 28,
     "metadata": {},
     "output_type": "execute_result"
    }
   ],
   "source": [
    "#加载轨迹数据\n",
    "trackfile= os.path.join(work_path,\"2_mobike_track_2017-06-20.csv\")\n",
    "track_df = pd.read_csv(trackfile)\n",
    "print track_df.shape\n",
    "track_df[:5]"
   ]
  },
  {
   "cell_type": "code",
   "execution_count": 29,
   "metadata": {
    "collapsed": true
   },
   "outputs": [],
   "source": [
    "#坐标可视化-高德坐标\n",
    "track_x, track_y =  _proj.transform(src_p, dst_p,track_df.Lng.values, track_df.Lat.values)\n",
    "track_points = np.column_stack(\n",
    "    (track_x, track_y, np.zeros(len(track_df))))\n",
    "track_ids = track_df.index.values\n",
    "#track_ids = track_df.trackid.values\n",
    "gridtrack_feature = PointFeature(track_ids, track_points)\n",
    "gridtrack_layer = PointLayer(gridtrack_feature)\n",
    "gridtrack_layer.min_pixel_size = 4\n",
    "gridtrack_layer.radius = 2\n",
    "gridtrack_layer.color = (0, 255, 255)\n",
    "app.add_layer(gridtrack_layer)\n",
    "app.set_view(app.full_view)\n",
    "#vehicle_layer.color.value = Blue\n",
    "gridtrack_layer.name = u\"单车运行轨迹\"\n",
    "#app.background_color = (25, 25, 25)  # make the background black"
   ]
  },
  {
   "cell_type": "code",
   "execution_count": 30,
   "metadata": {},
   "outputs": [
    {
     "data": {
      "text/html": [
       "<div>\n",
       "<table border=\"1\" class=\"dataframe\">\n",
       "  <thead>\n",
       "    <tr style=\"text-align: right;\">\n",
       "      <th></th>\n",
       "      <th>Orderid</th>\n",
       "      <th>TripID</th>\n",
       "      <th>SegID</th>\n",
       "      <th>Time</th>\n",
       "      <th>Speed</th>\n",
       "      <th>X</th>\n",
       "      <th>Y</th>\n",
       "      <th>Color_Ind</th>\n",
       "      <th>EndTime</th>\n",
       "    </tr>\n",
       "  </thead>\n",
       "  <tbody>\n",
       "    <tr>\n",
       "      <th>0</th>\n",
       "      <td>15361</td>\n",
       "      <td>1</td>\n",
       "      <td>1</td>\n",
       "      <td>80426</td>\n",
       "      <td>8.105772</td>\n",
       "      <td>114.347315</td>\n",
       "      <td>30.581608</td>\n",
       "      <td>2</td>\n",
       "      <td>80456</td>\n",
       "    </tr>\n",
       "    <tr>\n",
       "      <th>1</th>\n",
       "      <td>15361</td>\n",
       "      <td>1</td>\n",
       "      <td>2</td>\n",
       "      <td>81260</td>\n",
       "      <td>23.255602</td>\n",
       "      <td>114.327992</td>\n",
       "      <td>30.578814</td>\n",
       "      <td>5</td>\n",
       "      <td>81290</td>\n",
       "    </tr>\n",
       "    <tr>\n",
       "      <th>2</th>\n",
       "      <td>15361</td>\n",
       "      <td>1</td>\n",
       "      <td>3</td>\n",
       "      <td>81262</td>\n",
       "      <td>0.000000</td>\n",
       "      <td>114.327859</td>\n",
       "      <td>30.578789</td>\n",
       "      <td>0</td>\n",
       "      <td>81292</td>\n",
       "    </tr>\n",
       "  </tbody>\n",
       "</table>\n",
       "</div>"
      ],
      "text/plain": [
       "   Orderid  TripID  SegID   Time      Speed           X          Y  Color_Ind  \\\n",
       "0    15361       1      1  80426   8.105772  114.347315  30.581608          2   \n",
       "1    15361       1      2  81260  23.255602  114.327992  30.578814          5   \n",
       "2    15361       1      3  81262   0.000000  114.327859  30.578789          0   \n",
       "\n",
       "   EndTime  \n",
       "0    80456  \n",
       "1    81290  \n",
       "2    81292  "
      ]
     },
     "execution_count": 30,
     "metadata": {},
     "output_type": "execute_result"
    }
   ],
   "source": [
    "mobike_df = pd.read_csv(os.path.join(work_path,\"4_bike_trips_20170620_cityphi.csv\"))\n",
    "# suppose, a vehicle stay in the grid for 30 seconds after sending GPS signal\n",
    "mobike_df['EndTime'] = mobike_df.Time + 30\n",
    "mobike_df[:3]"
   ]
  },
  {
   "cell_type": "code",
   "execution_count": 31,
   "metadata": {
    "collapsed": true
   },
   "outputs": [],
   "source": [
    "# Mobike trajectory layer\n",
    "bike_x, bike_y =  _proj.transform(\n",
    "    src_p, dst_p, \n",
    "    mobike_df['X'].values, \n",
    "    mobike_df['Y'].values)\n",
    "track_points = np.column_stack((bike_x, bike_y, np.zeros(len(mobike_df))))\n",
    "track_trip_ids = mobike_df.SegID.values   \n",
    "track_times = mobike_df.Time.values\n",
    "track_feature = TrajectoryFeature(track_trip_ids, track_points, track_times)\n",
    "track_layer = AnimatedPointLayer(track_feature, time_slice=60 * 60)\n",
    "track_layer.min_pixel_size = 8.0\n",
    "#vehicle_layer.radius = 2\n",
    "track_layer.color = (250,0, 0)\n",
    "#vehicle_layer.color.value = Blue\n",
    "track_layer.name = u\"摩拜单车运行轨迹\"\n",
    "app.add_layer(track_layer)\n",
    "app.set_view(app.full_view)"
   ]
  },
  {
   "cell_type": "code",
   "execution_count": 32,
   "metadata": {
    "collapsed": true
   },
   "outputs": [],
   "source": [
    "# bike path layer\n",
    "path_layer = TrajectoryLayer(track_feature, time_slice=60*60 )\n",
    "path_layer.width = 10\n",
    "path_layer.min_pixel_size = 4\n",
    "path_layer.color = track_layer.color\n",
    "path_layer.glowing = True\n",
    "path_layer.name = u\"摩拜单车出行路径\"\n",
    "app.add_layer(path_layer)\n",
    "app.background_color = (25, 25, 25)  # make the background black"
   ]
  },
  {
   "cell_type": "code",
   "execution_count": 33,
   "metadata": {},
   "outputs": [
    {
     "data": {
      "text/html": [
       "\n",
       "        <div>\n",
       "            <span style=\"width: 80px; display: inline-block;\n",
       "                background-color: rgb(128, 128, 128);\">&nbsp;\n",
       "            </span>\n",
       "            速度0\n",
       "        </div>\n",
       "        \n",
       "        <div>\n",
       "            <span style=\"width: 80px; display: inline-block;\n",
       "                background-color: rgb(255, 0, 0);\">&nbsp;\n",
       "            </span>\n",
       "            速度0-5\n",
       "        </div>\n",
       "        \n",
       "        <div>\n",
       "            <span style=\"width: 80px; display: inline-block;\n",
       "                background-color: rgb(255, 140, 0);\">&nbsp;\n",
       "            </span>\n",
       "            速度5-10\n",
       "        </div>\n",
       "        \n",
       "        <div>\n",
       "            <span style=\"width: 80px; display: inline-block;\n",
       "                background-color: rgb(173, 255, 47);\">&nbsp;\n",
       "            </span>\n",
       "            速度10-15\n",
       "        </div>\n",
       "        \n",
       "        <div>\n",
       "            <span style=\"width: 80px; display: inline-block;\n",
       "                background-color: rgb(0, 128, 0);\">&nbsp;\n",
       "            </span>\n",
       "            速度15-20\n",
       "        </div>\n",
       "        "
      ],
      "text/plain": [
       "<cityphi.attribute.DiscreteColorAttribute at 0x4646b1d0>"
      ]
     },
     "execution_count": 33,
     "metadata": {},
     "output_type": "execute_result"
    }
   ],
   "source": [
    "# speed color\n",
    "Gray = (128,128,128)\n",
    "red = (255,0,0)\n",
    "dark_orange = (255,140,0)\n",
    "green_yeallow = (173,255,47)\n",
    "Green = (0,128,0)\n",
    "trip_colors = [Gray, red,dark_orange, green_yeallow, Green]\n",
    "color_labels = [u'速度0',u'速度0-5',u'速度5-10',u'速度10-15',u'速度15-20']\n",
    "track_layer.color = DiscreteColorAttribute(trip_colors, \n",
    "                        FeatureAttribute(\"type_color\"),color_labels)\n",
    "track_layer.color"
   ]
  },
  {
   "cell_type": "code",
   "execution_count": 34,
   "metadata": {
    "collapsed": true
   },
   "outputs": [],
   "source": [
    "# use speed computed by CityPhi. This can be used for raw data without pre. process.\n",
    "use_customer_color = True\n",
    "if not use_customer_color:\n",
    "    class SpeedColor(Attribute):    \n",
    "        def load(self, feature_data):\n",
    "            return 1 + feature_data.speed * 3.6 // 10\n",
    "    color_labels = [u'速度0',u'速度0-5',u'速度5-10',u'速度10-15',u'速度15-20']\n",
    "    track_layer.color = DiscreteColorAttribute(trip_colors, SpeedColor(),color_labels,\n",
    "                                              priorities=[0, 1, 2, 3, 4, 5])\n",
    "    track_layer.color.is_time_varying = True\n",
    "    path_layer.color = track_layer.color    \n",
    "    #track_layer.color"
   ]
  },
  {
   "cell_type": "code",
   "execution_count": 35,
   "metadata": {
    "collapsed": true
   },
   "outputs": [],
   "source": [
    "path_layer.color = track_layer.color"
   ]
  },
  {
   "cell_type": "code",
   "execution_count": 36,
   "metadata": {
    "collapsed": true
   },
   "outputs": [],
   "source": [
    "# time slider. Run this only once\n",
    "import cityphi.widget as _widget\n",
    "\n",
    "def get_time(t):\n",
    "    hh = int(t/3600)\n",
    "    mm = int((t-hh*3600)/60)\n",
    "    ss = int(t-hh*3600-mm*60)\n",
    "    return \"%02d:%02d:%02d\" % (hh, mm, ss)\n",
    "\n",
    "html_widget = _widget.HTMLWidget(\"\")\n",
    "app.add_widget(html_widget)\n",
    "\n",
    "def format_timestamp(t):\n",
    "    return \"\"\"\n",
    "    <span style='font-size: 40px; line-height: 40px'>\n",
    "    %s\n",
    "    </span>\"\"\" % (get_time(t))\n",
    "\n",
    "def change_time(t):\n",
    "    html_widget.html = format_timestamp(t)\n",
    "    track_layer.time = t                          \n",
    "    path_layer.time_window = t - 0.05*3600, t  #length of tail in second\n",
    "    \n",
    "time_slider = _widget.TimeSlider(0 * 3600, 24 * 3600, get_time, change_time)\n",
    "app.add_widget(time_slider)"
   ]
  },
  {
   "cell_type": "code",
   "execution_count": 37,
   "metadata": {
    "collapsed": true
   },
   "outputs": [],
   "source": [
    "#刷新时间\n",
    "def change_time(t):\n",
    "    html_widget.html = format_timestamp(t)\n",
    "    track_layer.time = t                          \n",
    "    #path_layer.time_window = t - 0.05*3600, t  #length of tail in second\n",
    "    \n",
    "time_slider.time_callback = change_time"
   ]
  },
  {
   "cell_type": "markdown",
   "metadata": {},
   "source": [
    "## 查核线分析"
   ]
  },
  {
   "cell_type": "code",
   "execution_count": 38,
   "metadata": {},
   "outputs": [
    {
     "ename": "AttributeError",
     "evalue": "'NoneType' object has no attribute 'update'",
     "output_type": "error",
     "traceback": [
      "\u001b[0;31m---------------------------------------------------------------------------\u001b[0m",
      "\u001b[0;31mAttributeError\u001b[0m                            Traceback (most recent call last)",
      "\u001b[0;32m<ipython-input-38-a711e4eec150>\u001b[0m in \u001b[0;36m<module>\u001b[0;34m()\u001b[0m\n\u001b[1;32m      9\u001b[0m     \u001b[0mend_time\u001b[0m \u001b[0;34m=\u001b[0m \u001b[0mstart_time\u001b[0m \u001b[0;34m+\u001b[0m \u001b[0mresolution\u001b[0m\u001b[0;34m\u001b[0m\u001b[0m\n\u001b[1;32m     10\u001b[0m     result = track_layer.query_screenline(\n\u001b[0;32m---> 11\u001b[0;31m         app.selection, (start_time, end_time))\n\u001b[0m\u001b[1;32m     12\u001b[0m     \u001b[0min_results\u001b[0m\u001b[0;34m.\u001b[0m\u001b[0mappend\u001b[0m\u001b[0;34m(\u001b[0m\u001b[0mlen\u001b[0m\u001b[0;34m(\u001b[0m\u001b[0mresult\u001b[0m\u001b[0;34m[\u001b[0m\u001b[0;36m0\u001b[0m\u001b[0;34m]\u001b[0m\u001b[0;34m)\u001b[0m\u001b[0;34m)\u001b[0m  \u001b[0;31m#upward\u001b[0m\u001b[0;34m\u001b[0m\u001b[0m\n\u001b[1;32m     13\u001b[0m     \u001b[0mout_results\u001b[0m\u001b[0;34m.\u001b[0m\u001b[0mappend\u001b[0m\u001b[0;34m(\u001b[0m\u001b[0mlen\u001b[0m\u001b[0;34m(\u001b[0m\u001b[0mresult\u001b[0m\u001b[0;34m[\u001b[0m\u001b[0;36m1\u001b[0m\u001b[0;34m]\u001b[0m\u001b[0;34m)\u001b[0m\u001b[0;34m)\u001b[0m\u001b[0;34m\u001b[0m\u001b[0m\n",
      "\u001b[0;32mcityphi\\core\\layer\\animatedpointlayer.py\u001b[0m in \u001b[0;36mquery_screenline\u001b[0;34m(self, screenline, time_window, directional)\u001b[0m\n",
      "\u001b[0;32mcityphi\\core\\layer\\layer.py\u001b[0m in \u001b[0;36m_query\u001b[0;34m(self, camera, shader)\u001b[0m\n",
      "\u001b[0;32mcityphi\\core\\engine.py\u001b[0m in \u001b[0;36m_query_update\u001b[0;34m(self, query_obj, layer)\u001b[0m\n",
      "\u001b[0;31mAttributeError\u001b[0m: 'NoneType' object has no attribute 'update'"
     ]
    }
   ],
   "source": [
    "#Screenline (60 min resolution) for the whole day  运行之前先在屏幕设定查核线\n",
    "resolution = 60*60\n",
    "in_results = []\n",
    "out_results = []\n",
    "x_values = []\n",
    "total_queries = int((time_slider.end_time - time_slider.start_time) / resolution)\n",
    "for i in range(total_queries):\n",
    "    start_time = time_slider.start_time + resolution * i\n",
    "    end_time = start_time + resolution\n",
    "    result = track_layer.query_screenline(\n",
    "        app.selection, (start_time, end_time))\n",
    "    in_results.append(len(result[0]))  #upward\n",
    "    out_results.append(len(result[1]))\n",
    "    #hh=end_time/3600\n",
    "    #x_values.append(end_time)  #秒\n",
    "    #x_values.append(hh)         #小时，带有小数\n",
    "    x_values.append(get_time(end_time)[:2])\n",
    "\n",
    "in_results_array = np.array(in_results)\n",
    "out_results_array = np.array(out_results)\n",
    "time_array=np.array(x_values)\n",
    "#画图\n",
    "screen_volau=np.column_stack((in_results_array, out_results_array))\n",
    "screen_df=pd.DataFrame(screen_volau, index=time_array,columns=['volau_in','volau_out'])\n",
    "screen_df.head()"
   ]
  },
  {
   "cell_type": "code",
   "execution_count": null,
   "metadata": {
    "collapsed": true
   },
   "outputs": [],
   "source": [
    "#画图\n",
    "screen_df.plot(title=\"Yangtse_River Screen_line Volaus\",figsize=(30, 10),kind=\"bar\")  #linewidth=2.5"
   ]
  },
  {
   "cell_type": "code",
   "execution_count": null,
   "metadata": {
    "collapsed": true
   },
   "outputs": [],
   "source": [
    "#流量汇总\n",
    "screen_df.apply(lambda x: x.sum())     #行求和"
   ]
  },
  {
   "cell_type": "code",
   "execution_count": null,
   "metadata": {
    "collapsed": true
   },
   "outputs": [],
   "source": [
    "#输出到外部文件\n",
    "screen_df['volau_sum'] = screen_df.apply(lambda x: x.sum(), axis=1)  #列求和\n",
    "screen_df.loc['Row_sum'] = screen_df.apply(lambda x: x.sum())     #行求和\n",
    "screen_df.to_csv(os.path.join(work_path,\"09_20170620_Cross_River.csv\"))  #不输出索引列 ,index=False"
   ]
  }
 ],
 "metadata": {
  "kernelspec": {
   "display_name": "Python 2",
   "language": "python",
   "name": "python2"
  },
  "language_info": {
   "codemirror_mode": {
    "name": "ipython",
    "version": 2
   },
   "file_extension": ".py",
   "mimetype": "text/x-python",
   "name": "python",
   "nbconvert_exporter": "python",
   "pygments_lexer": "ipython2",
   "version": "2.7.14"
  }
 },
 "nbformat": 4,
 "nbformat_minor": 1
}
